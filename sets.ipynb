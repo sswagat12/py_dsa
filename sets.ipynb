{
 "cells": [
  {
   "cell_type": "code",
   "execution_count": 3,
   "id": "fb3e9492",
   "metadata": {},
   "outputs": [
    {
     "name": "stdout",
     "output_type": "stream",
     "text": [
      "{'development', 'deployment', 'monitoring', 'testing'}\n"
     ]
    }
   ],
   "source": [
    "tasks = {'development', 'testing', 'monitoring'}\n",
    "tasks.add('deployment')\n",
    "print(tasks)"
   ]
  },
  {
   "cell_type": "code",
   "execution_count": 4,
   "id": "36311836",
   "metadata": {},
   "outputs": [
    {
     "name": "stdout",
     "output_type": "stream",
     "text": [
      "{'deployment', 'testing', 'SIT Testing', 'unit testing', 'development', 'monitoring'}\n"
     ]
    }
   ],
   "source": [
    "new_task = {'unit testing', 'SIT Testing'}\n",
    "new_task.update(tasks)\n",
    "print(new_task)"
   ]
  },
  {
   "cell_type": "code",
   "execution_count": null,
   "id": "46d34949",
   "metadata": {},
   "outputs": [],
   "source": []
  }
 ],
 "metadata": {
  "kernelspec": {
   "display_name": "Python 3",
   "language": "python",
   "name": "python3"
  },
  "language_info": {
   "codemirror_mode": {
    "name": "ipython",
    "version": 3
   },
   "file_extension": ".py",
   "mimetype": "text/x-python",
   "name": "python",
   "nbconvert_exporter": "python",
   "pygments_lexer": "ipython3",
   "version": "3.13.0"
  }
 },
 "nbformat": 4,
 "nbformat_minor": 5
}
