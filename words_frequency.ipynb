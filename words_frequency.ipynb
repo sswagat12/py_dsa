{
 "cells": [
  {
   "cell_type": "code",
   "execution_count": 4,
   "id": "1d212a4a",
   "metadata": {},
   "outputs": [
    {
     "data": {
      "text/plain": [
       "{'Sam': 1,\n",
       " 'and': 2,\n",
       " 'Ram': 1,\n",
       " 'are': 2,\n",
       " 'playing': 1,\n",
       " 'but': 1,\n",
       " 'Anil': 1,\n",
       " 'Krish': 1,\n",
       " 'dancing': 1}"
      ]
     },
     "execution_count": 4,
     "metadata": {},
     "output_type": "execute_result"
    }
   ],
   "source": [
    "word_count = dict()\n",
    "def word_frequency(ip_line):\n",
    "    ip_line = ip_line.split()\n",
    "    for each_word in ip_line:\n",
    "        if each_word in word_count:\n",
    "            word_count[each_word] += 1\n",
    "        else:\n",
    "            word_count[each_word] = 1\n",
    "    return word_count\n",
    "        \n",
    "word_frequency(\"Sam and Ram are playing but Anil and Krish are dancing\")\n"
   ]
  },
  {
   "cell_type": "code",
   "execution_count": null,
   "id": "65044071",
   "metadata": {},
   "outputs": [],
   "source": []
  },
  {
   "cell_type": "code",
   "execution_count": null,
   "id": "2cc15109",
   "metadata": {},
   "outputs": [],
   "source": []
  }
 ],
 "metadata": {
  "kernelspec": {
   "display_name": "Python 3",
   "language": "python",
   "name": "python3"
  },
  "language_info": {
   "codemirror_mode": {
    "name": "ipython",
    "version": 3
   },
   "file_extension": ".py",
   "mimetype": "text/x-python",
   "name": "python",
   "nbconvert_exporter": "python",
   "pygments_lexer": "ipython3",
   "version": "3.10.2"
  }
 },
 "nbformat": 4,
 "nbformat_minor": 5
}
